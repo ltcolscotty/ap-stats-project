{
 "cells": [
  {
   "cell_type": "code",
   "execution_count": 55,
   "id": "5fb15ba7-f640-4f56-866f-7962e858c3d7",
   "metadata": {
    "tags": []
   },
   "outputs": [],
   "source": [
    "#Import statements - DO NOT TOUCH\n",
    "import pandas as pd\n",
    "import numpy as np\n",
    "import scipy.stats as stats\n",
    "import statsmodels.api as sm\n",
    "\n",
    "\n",
    "from statsmodels.stats.proportion import proportions_ztest as ztest\n",
    "from statsmodels.stats.weightstats import ttest_ind as ttest\n",
    "\n",
    "# Dataset\n",
    "working_df = pd.read_csv('sleep1.csv').drop(['Timestamp', 'Unnamed: 12', 'Unnamed: 13'], axis=1)"
   ]
  },
  {
   "cell_type": "code",
   "execution_count": 57,
   "id": "86181e14-9965-430e-a47f-277adf857719",
   "metadata": {
    "tags": []
   },
   "outputs": [
    {
     "data": {
      "text/html": [
       "<div>\n",
       "<style scoped>\n",
       "    .dataframe tbody tr th:only-of-type {\n",
       "        vertical-align: middle;\n",
       "    }\n",
       "\n",
       "    .dataframe tbody tr th {\n",
       "        vertical-align: top;\n",
       "    }\n",
       "\n",
       "    .dataframe thead th {\n",
       "        text-align: right;\n",
       "    }\n",
       "</style>\n",
       "<table border=\"1\" class=\"dataframe\">\n",
       "  <thead>\n",
       "    <tr style=\"text-align: right;\">\n",
       "      <th></th>\n",
       "      <th>hours_of_sleep</th>\n",
       "      <th>gender</th>\n",
       "      <th>ap_classes</th>\n",
       "      <th>ec_hours</th>\n",
       "      <th>grade</th>\n",
       "      <th>ethnicity</th>\n",
       "      <th>Soc_econ_stat</th>\n",
       "      <th>num_siblings</th>\n",
       "      <th>el_12_effect</th>\n",
       "      <th>requirement</th>\n",
       "      <th>AD_Requirement</th>\n",
       "    </tr>\n",
       "  </thead>\n",
       "  <tbody>\n",
       "    <tr>\n",
       "      <th>0</th>\n",
       "      <td>6</td>\n",
       "      <td>Male</td>\n",
       "      <td>4+</td>\n",
       "      <td>5-10 Hours</td>\n",
       "      <td>Senior</td>\n",
       "      <td>Asian</td>\n",
       "      <td>Medium</td>\n",
       "      <td>2</td>\n",
       "      <td>No Response</td>\n",
       "      <td>UNDER</td>\n",
       "      <td>UNDER</td>\n",
       "    </tr>\n",
       "    <tr>\n",
       "      <th>1</th>\n",
       "      <td>8</td>\n",
       "      <td>Prefer not to say</td>\n",
       "      <td>2-3</td>\n",
       "      <td>0-5 Hours</td>\n",
       "      <td>Sophomore</td>\n",
       "      <td>Asian</td>\n",
       "      <td>Medium</td>\n",
       "      <td>1</td>\n",
       "      <td>No Response</td>\n",
       "      <td>MET</td>\n",
       "      <td>MET</td>\n",
       "    </tr>\n",
       "    <tr>\n",
       "      <th>2</th>\n",
       "      <td>7</td>\n",
       "      <td>Male</td>\n",
       "      <td>4+</td>\n",
       "      <td>0-5 Hours</td>\n",
       "      <td>Sophomore</td>\n",
       "      <td>Asian</td>\n",
       "      <td>High</td>\n",
       "      <td>1</td>\n",
       "      <td>No Response</td>\n",
       "      <td>UNDER</td>\n",
       "      <td>MET</td>\n",
       "    </tr>\n",
       "    <tr>\n",
       "      <th>3</th>\n",
       "      <td>8</td>\n",
       "      <td>Female</td>\n",
       "      <td>2-3</td>\n",
       "      <td>0-5 Hours</td>\n",
       "      <td>Sophomore</td>\n",
       "      <td>Asian</td>\n",
       "      <td>High</td>\n",
       "      <td>1</td>\n",
       "      <td>No/negligible change</td>\n",
       "      <td>MET</td>\n",
       "      <td>MET</td>\n",
       "    </tr>\n",
       "    <tr>\n",
       "      <th>4</th>\n",
       "      <td>7</td>\n",
       "      <td>Prefer not to say</td>\n",
       "      <td>4+</td>\n",
       "      <td>0-5 Hours</td>\n",
       "      <td>Senior</td>\n",
       "      <td>Mixed</td>\n",
       "      <td>Medium</td>\n",
       "      <td>0</td>\n",
       "      <td>Increase</td>\n",
       "      <td>UNDER</td>\n",
       "      <td>MET</td>\n",
       "    </tr>\n",
       "    <tr>\n",
       "      <th>5</th>\n",
       "      <td>7</td>\n",
       "      <td>Female</td>\n",
       "      <td>4+</td>\n",
       "      <td>10-20 Hours</td>\n",
       "      <td>Senior</td>\n",
       "      <td>Prefer not to say</td>\n",
       "      <td>No Response</td>\n",
       "      <td>1</td>\n",
       "      <td>Increase</td>\n",
       "      <td>UNDER</td>\n",
       "      <td>MET</td>\n",
       "    </tr>\n",
       "    <tr>\n",
       "      <th>6</th>\n",
       "      <td>7</td>\n",
       "      <td>Prefer not to say</td>\n",
       "      <td>2-3</td>\n",
       "      <td>0-5 Hours</td>\n",
       "      <td>Junior</td>\n",
       "      <td>White</td>\n",
       "      <td>High</td>\n",
       "      <td>1</td>\n",
       "      <td>No/negligible change</td>\n",
       "      <td>UNDER</td>\n",
       "      <td>MET</td>\n",
       "    </tr>\n",
       "    <tr>\n",
       "      <th>7</th>\n",
       "      <td>7</td>\n",
       "      <td>Male</td>\n",
       "      <td>4+</td>\n",
       "      <td>5-10 Hours</td>\n",
       "      <td>Senior</td>\n",
       "      <td>Other</td>\n",
       "      <td>Medium</td>\n",
       "      <td>0</td>\n",
       "      <td>Increase</td>\n",
       "      <td>UNDER</td>\n",
       "      <td>MET</td>\n",
       "    </tr>\n",
       "    <tr>\n",
       "      <th>8</th>\n",
       "      <td>8</td>\n",
       "      <td>Male</td>\n",
       "      <td>2-3</td>\n",
       "      <td>10-20 Hours</td>\n",
       "      <td>Junior</td>\n",
       "      <td>White</td>\n",
       "      <td>High</td>\n",
       "      <td>2</td>\n",
       "      <td>Decrease</td>\n",
       "      <td>MET</td>\n",
       "      <td>MET</td>\n",
       "    </tr>\n",
       "    <tr>\n",
       "      <th>9</th>\n",
       "      <td>6</td>\n",
       "      <td>Female</td>\n",
       "      <td>4+</td>\n",
       "      <td>10-20 Hours</td>\n",
       "      <td>Junior</td>\n",
       "      <td>Asian</td>\n",
       "      <td>High</td>\n",
       "      <td>2</td>\n",
       "      <td>No/negligible change</td>\n",
       "      <td>UNDER</td>\n",
       "      <td>UNDER</td>\n",
       "    </tr>\n",
       "  </tbody>\n",
       "</table>\n",
       "</div>"
      ],
      "text/plain": [
       "   hours_of_sleep             gender ap_classes     ec_hours      grade  \\\n",
       "0               6               Male         4+   5-10 Hours     Senior   \n",
       "1               8  Prefer not to say        2-3    0-5 Hours  Sophomore   \n",
       "2               7               Male         4+    0-5 Hours  Sophomore   \n",
       "3               8             Female        2-3    0-5 Hours  Sophomore   \n",
       "4               7  Prefer not to say         4+    0-5 Hours     Senior   \n",
       "5               7             Female         4+  10-20 Hours     Senior   \n",
       "6               7  Prefer not to say        2-3    0-5 Hours     Junior   \n",
       "7               7               Male         4+   5-10 Hours     Senior   \n",
       "8               8               Male        2-3  10-20 Hours     Junior   \n",
       "9               6             Female         4+  10-20 Hours     Junior   \n",
       "\n",
       "           ethnicity Soc_econ_stat num_siblings          el_12_effect  \\\n",
       "0              Asian        Medium            2           No Response   \n",
       "1              Asian        Medium            1           No Response   \n",
       "2              Asian          High            1           No Response   \n",
       "3              Asian          High            1  No/negligible change   \n",
       "4              Mixed        Medium            0              Increase   \n",
       "5  Prefer not to say   No Response            1              Increase   \n",
       "6              White          High            1  No/negligible change   \n",
       "7              Other        Medium            0              Increase   \n",
       "8              White          High            2              Decrease   \n",
       "9              Asian          High            2  No/negligible change   \n",
       "\n",
       "  requirement AD_Requirement  \n",
       "0       UNDER          UNDER  \n",
       "1         MET            MET  \n",
       "2       UNDER            MET  \n",
       "3         MET            MET  \n",
       "4       UNDER            MET  \n",
       "5       UNDER            MET  \n",
       "6       UNDER            MET  \n",
       "7       UNDER            MET  \n",
       "8         MET            MET  \n",
       "9       UNDER          UNDER  "
      ]
     },
     "execution_count": 57,
     "metadata": {},
     "output_type": "execute_result"
    }
   ],
   "source": [
    "#First 10 entries of dataset\n",
    "working_df.head(10)"
   ]
  },
  {
   "cell_type": "markdown",
   "id": "95afc4ca-e8b1-4a68-b4cf-46d782d8d3c4",
   "metadata": {},
   "source": [
    "# Data Summaries\n",
    "Stat summaries - to view them, create a new box and type the name of the variable you want to see (eg. \"summary_grade_sleep\")\n",
    "\n",
    "NOTE: IS CASE SENSITIVE"
   ]
  },
  {
   "cell_type": "code",
   "execution_count": 2,
   "id": "5ab51eda-3324-4684-966e-c5679f484434",
   "metadata": {
    "tags": []
   },
   "outputs": [],
   "source": [
    "summary_gender_sleep = working_df.groupby('gender')['hours_of_sleep'].describe().drop('No Response', axis=0, errors='ignore')\n",
    "summary_grade_sleep = working_df.groupby('grade')['hours_of_sleep'].describe().drop('No Response', axis=0, errors='ignore')\n",
    "summary_ap_sleep = working_df.groupby('ap_classes')['hours_of_sleep'].describe().drop('No Response', axis=0, errors='ignore')\n",
    "summary_soc_sleep = working_df.groupby('Soc_econ_stat')['hours_of_sleep'].describe().drop('No Response', axis=0, errors='ignore')\n",
    "summary_sibling_sleep = working_df.groupby('num_siblings')['hours_of_sleep'].describe().drop('No Response', axis=0, errors='ignore')\n",
    "summary_el12_sleep = working_df.groupby('el_12_effect')['hours_of_sleep'].describe().drop('No Response', axis=0, errors='ignore')\n",
    "summary_ethnicity_sleep = working_df.groupby('ethnicity')['hours_of_sleep'].describe().drop('No Response', axis=0, errors='ignore')"
   ]
  },
  {
   "cell_type": "code",
   "execution_count": 54,
   "id": "ab2776d1-e5f3-4ee3-b543-ab5076501b66",
   "metadata": {
    "tags": []
   },
   "outputs": [
    {
     "data": {
      "text/html": [
       "<div>\n",
       "<style scoped>\n",
       "    .dataframe tbody tr th:only-of-type {\n",
       "        vertical-align: middle;\n",
       "    }\n",
       "\n",
       "    .dataframe tbody tr th {\n",
       "        vertical-align: top;\n",
       "    }\n",
       "\n",
       "    .dataframe thead th {\n",
       "        text-align: right;\n",
       "    }\n",
       "</style>\n",
       "<table border=\"1\" class=\"dataframe\">\n",
       "  <thead>\n",
       "    <tr style=\"text-align: right;\">\n",
       "      <th></th>\n",
       "      <th>count</th>\n",
       "      <th>mean</th>\n",
       "      <th>std</th>\n",
       "      <th>min</th>\n",
       "      <th>25%</th>\n",
       "      <th>50%</th>\n",
       "      <th>75%</th>\n",
       "      <th>max</th>\n",
       "    </tr>\n",
       "    <tr>\n",
       "      <th>ethnicity</th>\n",
       "      <th></th>\n",
       "      <th></th>\n",
       "      <th></th>\n",
       "      <th></th>\n",
       "      <th></th>\n",
       "      <th></th>\n",
       "      <th></th>\n",
       "      <th></th>\n",
       "    </tr>\n",
       "  </thead>\n",
       "  <tbody>\n",
       "    <tr>\n",
       "      <th>Asian</th>\n",
       "      <td>37.0</td>\n",
       "      <td>6.054054</td>\n",
       "      <td>1.393356</td>\n",
       "      <td>4.0</td>\n",
       "      <td>5.00</td>\n",
       "      <td>6.0</td>\n",
       "      <td>7.00</td>\n",
       "      <td>8.0</td>\n",
       "    </tr>\n",
       "    <tr>\n",
       "      <th>Black/African American</th>\n",
       "      <td>1.0</td>\n",
       "      <td>7.000000</td>\n",
       "      <td>NaN</td>\n",
       "      <td>7.0</td>\n",
       "      <td>7.00</td>\n",
       "      <td>7.0</td>\n",
       "      <td>7.00</td>\n",
       "      <td>7.0</td>\n",
       "    </tr>\n",
       "    <tr>\n",
       "      <th>Latino/Latina/Latinx</th>\n",
       "      <td>1.0</td>\n",
       "      <td>7.000000</td>\n",
       "      <td>NaN</td>\n",
       "      <td>7.0</td>\n",
       "      <td>7.00</td>\n",
       "      <td>7.0</td>\n",
       "      <td>7.00</td>\n",
       "      <td>7.0</td>\n",
       "    </tr>\n",
       "    <tr>\n",
       "      <th>Mixed</th>\n",
       "      <td>9.0</td>\n",
       "      <td>6.000000</td>\n",
       "      <td>1.118034</td>\n",
       "      <td>5.0</td>\n",
       "      <td>5.00</td>\n",
       "      <td>6.0</td>\n",
       "      <td>7.00</td>\n",
       "      <td>8.0</td>\n",
       "    </tr>\n",
       "    <tr>\n",
       "      <th>Other</th>\n",
       "      <td>2.0</td>\n",
       "      <td>7.500000</td>\n",
       "      <td>0.707107</td>\n",
       "      <td>7.0</td>\n",
       "      <td>7.25</td>\n",
       "      <td>7.5</td>\n",
       "      <td>7.75</td>\n",
       "      <td>8.0</td>\n",
       "    </tr>\n",
       "    <tr>\n",
       "      <th>Prefer not to say</th>\n",
       "      <td>5.0</td>\n",
       "      <td>6.000000</td>\n",
       "      <td>1.000000</td>\n",
       "      <td>5.0</td>\n",
       "      <td>5.00</td>\n",
       "      <td>6.0</td>\n",
       "      <td>7.00</td>\n",
       "      <td>7.0</td>\n",
       "    </tr>\n",
       "    <tr>\n",
       "      <th>White</th>\n",
       "      <td>33.0</td>\n",
       "      <td>6.787879</td>\n",
       "      <td>0.857233</td>\n",
       "      <td>4.0</td>\n",
       "      <td>6.00</td>\n",
       "      <td>7.0</td>\n",
       "      <td>7.00</td>\n",
       "      <td>8.0</td>\n",
       "    </tr>\n",
       "  </tbody>\n",
       "</table>\n",
       "</div>"
      ],
      "text/plain": [
       "                        count      mean       std  min   25%  50%   75%  max\n",
       "ethnicity                                                                   \n",
       "Asian                    37.0  6.054054  1.393356  4.0  5.00  6.0  7.00  8.0\n",
       "Black/African American    1.0  7.000000       NaN  7.0  7.00  7.0  7.00  7.0\n",
       "Latino/Latina/Latinx      1.0  7.000000       NaN  7.0  7.00  7.0  7.00  7.0\n",
       "Mixed                     9.0  6.000000  1.118034  5.0  5.00  6.0  7.00  8.0\n",
       "Other                     2.0  7.500000  0.707107  7.0  7.25  7.5  7.75  8.0\n",
       "Prefer not to say         5.0  6.000000  1.000000  5.0  5.00  6.0  7.00  7.0\n",
       "White                    33.0  6.787879  0.857233  4.0  6.00  7.0  7.00  8.0"
      ]
     },
     "execution_count": 54,
     "metadata": {},
     "output_type": "execute_result"
    }
   ],
   "source": [
    "summary_ethnicity_sleep"
   ]
  },
  {
   "cell_type": "markdown",
   "id": "794c5b05-86cb-4686-bb0f-c62d396cfd5e",
   "metadata": {},
   "source": [
    "# SLEEP REQUIREMENTS\n",
    "\n",
    "Assumptions: <br>\n",
    "Teenager: 8-10 Hrs <br>\n",
    "Adult: 7-8 Hrs"
   ]
  },
  {
   "cell_type": "code",
   "execution_count": 4,
   "id": "17abb326-1275-4b3f-9930-8eb6f007948f",
   "metadata": {
    "tags": []
   },
   "outputs": [],
   "source": [
    "cross_gender_AD = pd.crosstab(working_df['gender'], working_df['AD_Requirement']).drop('No Response', axis=0, errors='ignore')\n",
    "cross_gender_reg = pd.crosstab(working_df['gender'], working_df['requirement']).drop('No Response', axis=0, errors='ignore')\n",
    "\n",
    "cross_grade_AD = pd.crosstab(working_df['grade'], working_df['AD_Requirement']).drop('No Response', axis=0, errors='ignore')\n",
    "cross_grade_reg = pd.crosstab(working_df['grade'], working_df['requirement']).drop('No Response', axis=0, errors='ignore')\n",
    "\n",
    "cross_ap_AD = pd.crosstab(working_df['ap_classes'], working_df['AD_Requirement']).drop('No Response', axis=0, errors='ignore')\n",
    "cross_ap_reg = pd.crosstab(working_df['ap_classes'], working_df['requirement']).drop('No Response', axis=0, errors='ignore')\n",
    "\n",
    "cross_ec_AD = pd.crosstab(working_df['ec_hours'], working_df['AD_Requirement']).drop('No Response', axis=0, errors='ignore')\n",
    "cross_ec_reg = pd.crosstab(working_df['ec_hours'], working_df['requirement']).drop('No Response', axis=0, errors='ignore')\n",
    "\n",
    "cross_sib_AD = pd.crosstab(working_df['num_siblings'], working_df['AD_Requirement']).drop('No Response', axis=0, errors='ignore')\n",
    "cross_sib_reg = pd.crosstab(working_df['num_siblings'], working_df['requirement']).drop('No Response', axis=0, errors='ignore')\n",
    "\n",
    "cross_econ_AD = pd.crosstab(working_df['Soc_econ_stat'], working_df['AD_Requirement']).drop('No Response', axis=0, errors='ignore')\n",
    "cross_econ_reg = pd.crosstab(working_df['Soc_econ_stat'], working_df['requirement']).drop('No Response', axis=0, errors='ignore')\n",
    "\n",
    "cross_ethnicity_AD = pd.crosstab(working_df['ethnicity'], working_df['AD_Requirement']).drop('No Response', axis=0, errors='ignore')\n",
    "cross_ethnicity_reg = pd.crosstab(working_df['ethnicity'], working_df['requirement']).drop('No Response', axis=0, errors='ignore')\n",
    "\n",
    "cross_el12_AD = pd.crosstab(working_df['el_12_effect'], working_df['AD_Requirement']).drop('No Response', axis=0, errors='ignore')\n",
    "cross_el12_reg = pd.crosstab(working_df['el_12_effect'], working_df['requirement']).drop('No Response', axis=0, errors='ignore')"
   ]
  },
  {
   "cell_type": "markdown",
   "id": "fcbb8b96-4422-4759-91a4-42099726d29a",
   "metadata": {},
   "source": [
    "# X^2 test for independence\n",
    "\n",
    "Tested for people meeting and not meeting advised sleep\n",
    "\n",
    "Output: <br>\n",
    "Test Statistic <br>\n",
    "P-value <br>\n",
    "Degrees of freedom <br>\n",
    "Expected frequency table <br>"
   ]
  },
  {
   "cell_type": "markdown",
   "id": "ce12ef58-03a6-4b61-bd36-68fbe26d79b5",
   "metadata": {},
   "source": [
    "## Gender"
   ]
  },
  {
   "cell_type": "code",
   "execution_count": 46,
   "id": "82059b4d-eb93-4e0a-99f4-caa808a3785b",
   "metadata": {
    "tags": []
   },
   "outputs": [
    {
     "name": "stdout",
     "output_type": "stream",
     "text": [
      "x2: 0.9952380952380951\n",
      "p-value: 0.6079765008874592\n",
      "degrees of freedom 2\n",
      "[[19.09090909 15.90909091]\n",
      " [24.         20.        ]\n",
      " [ 4.90909091  4.09090909]]\n"
     ]
    }
   ],
   "source": [
    "test_table = cross_gender_AD\n",
    "x2_val, pval, dof, freq = stats.chi2_contingency(test_table)\n",
    "\n",
    "print(f\"x2: {x2_val}\")\n",
    "print(f\"p-value: {pval}\")\n",
    "print(f\"degrees of freedom {dof}\")\n",
    "print(f\"{freq}\")"
   ]
  },
  {
   "cell_type": "markdown",
   "id": "04477300-6b50-4c70-b114-9c2a9c541867",
   "metadata": {},
   "source": [
    "## Grade Level"
   ]
  },
  {
   "cell_type": "code",
   "execution_count": 45,
   "id": "369f20e4-b02d-4993-84c8-b37c69142bfb",
   "metadata": {
    "tags": []
   },
   "outputs": [
    {
     "name": "stdout",
     "output_type": "stream",
     "text": [
      "x2: 3.337132275132274\n",
      "p-value: 0.3425078711816543\n",
      "degrees of freedom 3\n",
      "[[ 4.90909091  4.09090909]\n",
      " [ 7.63636364  6.36363636]\n",
      " [21.81818182 18.18181818]\n",
      " [13.63636364 11.36363636]]\n"
     ]
    }
   ],
   "source": [
    "test_table = cross_grade_AD\n",
    "x2_val, pval, dof, freq = stats.chi2_contingency(test_table)\n",
    "\n",
    "print(f\"x2: {x2_val}\")\n",
    "print(f\"p-value: {pval}\")\n",
    "print(f\"degrees of freedom {dof}\")\n",
    "print(f\"{freq}\")"
   ]
  },
  {
   "cell_type": "markdown",
   "id": "28a295e6-491e-452a-a604-1235850a65ce",
   "metadata": {},
   "source": [
    "## AP Class count"
   ]
  },
  {
   "cell_type": "code",
   "execution_count": 44,
   "id": "4e6b1de5-c6f4-4bcb-9b9b-402b73e87406",
   "metadata": {
    "tags": []
   },
   "outputs": [
    {
     "name": "stdout",
     "output_type": "stream",
     "text": [
      "x2: 5.288137341585617\n",
      "p-value: 0.07107151390310583\n",
      "degrees of freedom 2\n",
      "[[18.         15.        ]\n",
      " [14.18181818 11.81818182]\n",
      " [15.81818182 13.18181818]]\n"
     ]
    }
   ],
   "source": [
    "test_table = cross_ap_AD\n",
    "x2_val, pval, dof, freq = stats.chi2_contingency(test_table)\n",
    "\n",
    "print(f\"x2: {x2_val}\")\n",
    "print(f\"p-value: {pval}\")\n",
    "print(f\"degrees of freedom {dof}\")\n",
    "print(f\"{freq}\")"
   ]
  },
  {
   "cell_type": "markdown",
   "id": "e88c5a36-10ac-46b5-a5e2-ce2f470acd12",
   "metadata": {},
   "source": [
    "## Reported socioeconomic status"
   ]
  },
  {
   "cell_type": "code",
   "execution_count": 42,
   "id": "a35ad58e-e592-442c-beaf-74e5eeafb3a7",
   "metadata": {
    "tags": []
   },
   "outputs": [
    {
     "name": "stdout",
     "output_type": "stream",
     "text": [
      "x2: 0.5812803421815049\n",
      "p-value: 0.747784704167948\n",
      "degrees of freedom 2\n",
      "[[17.41772152 14.58227848]\n",
      " [ 1.63291139  1.36708861]\n",
      " [23.94936709 20.05063291]]\n"
     ]
    }
   ],
   "source": [
    "test_table = cross_econ_AD\n",
    "x2_val, pval, dof, freq = stats.chi2_contingency(test_table)\n",
    "\n",
    "print(f\"x2: {x2_val}\")\n",
    "print(f\"p-value: {pval}\")\n",
    "print(f\"degrees of freedom {dof}\")\n",
    "print(f\"{freq}\")"
   ]
  },
  {
   "cell_type": "markdown",
   "id": "4738fdcf-12f4-417c-aabd-e1486cf5a9fd",
   "metadata": {},
   "source": [
    "## Number of siblings"
   ]
  },
  {
   "cell_type": "code",
   "execution_count": 41,
   "id": "12585df6-daa5-4fc7-8d79-4ac007d72f59",
   "metadata": {
    "tags": []
   },
   "outputs": [
    {
     "name": "stdout",
     "output_type": "stream",
     "text": [
      "x2: 2.2945331281899595\n",
      "p-value: 0.513569023452799\n",
      "degrees of freedom 3\n",
      "[[ 7.57647059  6.42352941]\n",
      " [26.51764706 22.48235294]\n",
      " [ 8.65882353  7.34117647]\n",
      " [ 3.24705882  2.75294118]]\n"
     ]
    }
   ],
   "source": [
    "test_table = cross_sib_AD\n",
    "x2_val, pval, dof, freq = stats.chi2_contingency(test_table)\n",
    "\n",
    "print(f\"x2: {x2_val}\")\n",
    "print(f\"p-value: {pval}\")\n",
    "print(f\"degrees of freedom {dof}\")\n",
    "print(f\"{freq}\")"
   ]
  },
  {
   "cell_type": "markdown",
   "id": "6b39da93-dd67-4252-8520-bfaf45d0649d",
   "metadata": {},
   "source": [
    "## Thoughts on EL-12"
   ]
  },
  {
   "cell_type": "code",
   "execution_count": 43,
   "id": "63995669-cdeb-422b-a81d-baf5f18023bc",
   "metadata": {
    "tags": []
   },
   "outputs": [
    {
     "name": "stdout",
     "output_type": "stream",
     "text": [
      "x2: 5.079435802292944\n",
      "p-value: 0.0788886510500176\n",
      "degrees of freedom 2\n",
      "[[ 7.24050633  5.75949367]\n",
      " [11.69620253  9.30379747]\n",
      " [25.06329114 19.93670886]]\n"
     ]
    }
   ],
   "source": [
    "test_table = cross_el12_AD\n",
    "x2_val, pval, dof, freq = stats.chi2_contingency(test_table)\n",
    "\n",
    "print(f\"x2: {x2_val}\")\n",
    "print(f\"p-value: {pval}\")\n",
    "print(f\"degrees of freedom {dof}\")\n",
    "print(f\"{freq}\")"
   ]
  },
  {
   "cell_type": "markdown",
   "id": "8b2a110b-95b9-4a5c-a159-12b394d2c36c",
   "metadata": {},
   "source": [
    "# T-Test\n",
    "output format: (Test Statistic, P-value, Degrees of Freedom)"
   ]
  },
  {
   "cell_type": "markdown",
   "id": "e0a471f3-2752-4d79-b041-13f904db630e",
   "metadata": {},
   "source": [
    "## Upperclassmen vs Lowerclassmen"
   ]
  },
  {
   "cell_type": "code",
   "execution_count": 49,
   "id": "5fcd015d-5020-42b8-9f45-eb23ff398cd1",
   "metadata": {},
   "outputs": [
    {
     "data": {
      "text/plain": [
       "(-2.314868540910588, 0.023002528892238312, 86.0)"
      ]
     },
     "execution_count": 49,
     "metadata": {},
     "output_type": "execute_result"
    }
   ],
   "source": [
    "upper_class_df = working_df[(working_df['grade']=='Senior') | (working_df['grade']=='Junior')]\n",
    "lower_class_df = working_df[(working_df['grade']=='Freshman') | (working_df['grade']=='Sophomore')]\n",
    "ttest(upper_class_df['hours_of_sleep'], lower_class_df['hours_of_sleep'])"
   ]
  },
  {
   "cell_type": "markdown",
   "id": "ec16ca02-3794-4ab5-a389-ba75595a124f",
   "metadata": {},
   "source": [
    "## Extracurriculars [0-10 hr/wk vs 10-20 hr/wk]"
   ]
  },
  {
   "cell_type": "code",
   "execution_count": 48,
   "id": "a6b1b5a4-bcb3-4489-ab51-6d5c7a071ae1",
   "metadata": {
    "tags": []
   },
   "outputs": [
    {
     "data": {
      "text/plain": [
       "(-0.5049405314097308, 0.6148921090669665, 86.0)"
      ]
     },
     "execution_count": 48,
     "metadata": {},
     "output_type": "execute_result"
    }
   ],
   "source": [
    "lower_ec_df = working_df[(working_df['ec_hours']=='0-5 Hours') | (working_df['ec_hours']=='5-10 Hours')]\n",
    "upper_ec_df = working_df[(working_df['ec_hours']=='10-20 Hours') | (working_df['ec_hours']=='20+ Hours')]\n",
    "ttest(upper_ec_df['hours_of_sleep'], lower_ec_df['hours_of_sleep'])"
   ]
  },
  {
   "cell_type": "markdown",
   "id": "474dd5ed-0fc2-48cc-96c8-084ade13c673",
   "metadata": {},
   "source": [
    "## Seniors vs Sophomores & Juniors"
   ]
  },
  {
   "cell_type": "code",
   "execution_count": 47,
   "id": "2f6f2f35-c633-42cf-bac3-7453fca601d7",
   "metadata": {
    "tags": []
   },
   "outputs": [
    {
     "data": {
      "text/plain": [
       "(2.779277974187426, 0.0068427546032571104, 77.0)"
      ]
     },
     "execution_count": 47,
     "metadata": {},
     "output_type": "execute_result"
    }
   ],
   "source": [
    "middle_class_df = working_df[(working_df['grade']=='Junior') | (working_df['grade']=='Sophomore')]\n",
    "senior_df = working_df[(working_df['grade']=='Senior')]\n",
    "\n",
    "ttest(middle_class_df['hours_of_sleep'], senior_df['hours_of_sleep'])"
   ]
  },
  {
   "cell_type": "markdown",
   "id": "28f5a76b-0de5-4819-84c9-f065ae0190e0",
   "metadata": {},
   "source": [
    "# Z test\n",
    "\n",
    "output format: (Test statistic, P-value)"
   ]
  },
  {
   "cell_type": "markdown",
   "id": "a2a9d684-8cd2-499d-acc5-e6be69a575f4",
   "metadata": {},
   "source": [
    "## Upperclassmen vs Lowerclassmen"
   ]
  },
  {
   "cell_type": "code",
   "execution_count": 14,
   "id": "7f5ae259-cb1a-4da8-83ef-5422b9cb0a6b",
   "metadata": {
    "tags": []
   },
   "outputs": [
    {
     "data": {
      "text/plain": [
       "(1.9092935402134767, 0.05622423516979415)"
      ]
     },
     "execution_count": 14,
     "metadata": {},
     "output_type": "execute_result"
    }
   ],
   "source": [
    "u_ec = len(upper_class_df[(upper_class_df['ec_hours']=='10-20 Hours') | (upper_class_df['ec_hours']=='20+ Hours')])\n",
    "l_ec = len(lower_class_df[(lower_class_df['ec_hours']=='10-20 Hours') | (lower_class_df['ec_hours']=='20+ Hours')])\n",
    "\n",
    "count = np.array([u_ec, l_ec])\n",
    "nobs = np.array([len(working_df), len(working_df)])\n",
    "\n",
    "ztest(count, nobs)"
   ]
  },
  {
   "cell_type": "markdown",
   "id": "e48fc2a9-6e8f-4004-bcad-8e61af450d1d",
   "metadata": {},
   "source": [
    "## AP Classes [4+ vs <4]"
   ]
  },
  {
   "cell_type": "code",
   "execution_count": 34,
   "id": "d98d2baa-7148-4471-b0b1-dbe398ad4b09",
   "metadata": {
    "tags": []
   },
   "outputs": [
    {
     "data": {
      "text/plain": [
       "(-0.7637174160853909, 0.44503565978173254)"
      ]
     },
     "execution_count": 34,
     "metadata": {},
     "output_type": "execute_result"
    }
   ],
   "source": [
    "fourplus = len(working_df[(working_df['ap_classes']=='4+') & ((working_df['ec_hours']=='10-20 Hours') | (working_df['ec_hours']=='20+ Hours'))])\n",
    "underfour = len(working_df[((working_df['ap_classes']=='2-3') | (working_df['ap_classes']=='0-1')) & \n",
    "                           ((working_df['ec_hours']=='10-20 Hours') | (working_df['ec_hours']=='20+ Hours'))])\n",
    "\n",
    "count = np.array([fourplus, underfour])\n",
    "nobs = np.array([len(working_df), len(working_df)])\n",
    "\n",
    "ztest(count, nobs)"
   ]
  }
 ],
 "metadata": {
  "kernelspec": {
   "display_name": "Python 3 (ipykernel)",
   "language": "python",
   "name": "python3"
  },
  "language_info": {
   "codemirror_mode": {
    "name": "ipython",
    "version": 3
   },
   "file_extension": ".py",
   "mimetype": "text/x-python",
   "name": "python",
   "nbconvert_exporter": "python",
   "pygments_lexer": "ipython3",
   "version": "3.11.5"
  }
 },
 "nbformat": 4,
 "nbformat_minor": 5
}
